{
 "cells": [
  {
   "cell_type": "code",
   "execution_count": 5,
   "id": "bd4c6855-3e86-4fbb-8e6d-6d88927e6e67",
   "metadata": {},
   "outputs": [
    {
     "name": "stdout",
     "output_type": "stream",
     "text": [
      "[1, 3, 5, 7, 9, 11, 13, 15, 17, 19, 21, 23, 25]\n"
     ]
    }
   ],
   "source": [
    "# Q1. Which keyword is used to create a function? Create a function to return a list of odd numbers in the range of 1 to 25.\n",
    "    \n",
    " # ans =   def keyword is used to create function.\n",
    "        \n",
    "def get_odd_numbers():\n",
    "    odd_numbers = []\n",
    "    for number in range(1, 26):\n",
    "        \n",
    "        if number % 2 != 0:\n",
    "            \n",
    "            odd_numbers.append(number)\n",
    "            \n",
    "    return odd_numbers\n",
    "\n",
    "# Call the function to get the list of odd numbers\n",
    "odd_numbers_list = get_odd_numbers()\n",
    "print(odd_numbers_list)\n",
    "\n",
    "        \n",
    "    \n",
    "    \n",
    "    \n",
    "    "
   ]
  },
  {
   "cell_type": "code",
   "execution_count": null,
   "id": "07612d59-c26a-4de9-b7a3-4d3460830da3",
   "metadata": {},
   "outputs": [],
   "source": [
    "\n"
   ]
  },
  {
   "cell_type": "code",
   "execution_count": 8,
   "id": "91f4dbe7-95de-4f30-9df8-62326b9b2c7b",
   "metadata": {},
   "outputs": [
    {
     "name": "stdout",
     "output_type": "stream",
     "text": [
      "1\n",
      "2\n",
      "3\n",
      "Hello\n",
      "[4, 5, 6]\n"
     ]
    }
   ],
   "source": [
    "# Q2. Why *args and **kwargs is used in some functions? Create a function each for *args and **kwargs to demonstrate their use.\n",
    "    \n",
    "# *args   = It is used to make parameter dynamic by using *args we can pass any number of input parameter. These arguments are collected into a tuple, and we can iterate over them or perform various operations on them\n",
    "# **kwargs = It is used to get the ouput of program in the form of key, value pair i.e in dictionary format\n",
    "\n",
    "def print_args(*args):\n",
    "    for i in args:\n",
    "        print(i)\n",
    "\n",
    "\n",
    "print_args(1, 2, 3, \"Hello\", [4, 5, 6])\n",
    "\n",
    "\n",
    "\n"
   ]
  },
  {
   "cell_type": "code",
   "execution_count": 18,
   "id": "bb9cff03-6ffe-4c05-a315-bcc452031498",
   "metadata": {},
   "outputs": [
    {
     "name": "stdout",
     "output_type": "stream",
     "text": [
      "name: John\n",
      "age: 30\n",
      "city: New York\n",
      "first_name: Alice\n",
      "last_name: Johnson\n",
      "occupation: Engineer\n"
     ]
    }
   ],
   "source": [
    " # Create a function each for **kwargs to demonstrate their use.\n",
    "def person_info(**kwargs):\n",
    "    \n",
    "    for key,value in kwargs.items():\n",
    "        \n",
    "        print(f\"{key}: {value}\")\n",
    "\n",
    "\n",
    "person_info(name=\"John\", age=30, city=\"New York\")\n",
    "person_info(first_name=\"Alice\", last_name=\"Johnson\", occupation=\"Engineer\")\n"
   ]
  },
  {
   "cell_type": "code",
   "execution_count": null,
   "id": "435fa139-3e7e-458a-b52e-cbfbba730d15",
   "metadata": {},
   "outputs": [],
   "source": []
  },
  {
   "cell_type": "code",
   "execution_count": null,
   "id": "f8562a7d-a8be-48e3-aaf2-d87c7203ee46",
   "metadata": {},
   "outputs": [],
   "source": [
    "# Q3. What is an iterator in python? Name the method used to initialise the iterator object and the method\n",
    "# used for iteration. Use these methods to print the first five elements of the given list [2, 4, 6, 8, 10, 12, 14,16, 18, 20].\n",
    "  \n",
    "In Python, an iterator is an object that allows you to traverse or iterate through a collection of items, one item at a time. \n",
    "To work with iterators, you typically use two methods:\n",
    "\n",
    "iter(): This method is used to initialize an iterator object from an iterable. It returns an iterator for the given iterable....\n",
    "\n",
    "next(): This method is used for iteration and retrieves the next item from the iterator. When there are no more items to be iterated, \n",
    "        it raises a StopIteration exception....   "
   ]
  },
  {
   "cell_type": "code",
   "execution_count": null,
   "id": "6b648ef1-feba-49a8-a804-909a6416275c",
   "metadata": {},
   "outputs": [],
   "source": []
  },
  {
   "cell_type": "code",
   "execution_count": 24,
   "id": "05249a48-2d78-4c22-99be-f936fb952f0e",
   "metadata": {},
   "outputs": [
    {
     "name": "stdout",
     "output_type": "stream",
     "text": [
      "1\n",
      "2\n",
      "3\n",
      "4\n",
      "5\n"
     ]
    }
   ],
   "source": [
    "# Q4. What is a generator function in python? Why yield keyword is used? Give an example of a generator function.\n",
    "\n",
    "# A Python generator function allows you to declare a function that behaves like an iterator, providing a faster and easier way to create iterators. \n",
    "# Generator functions are defined using the def keyword, just like regular functions, but instead of using the return statement, they use the yield keyword.\n",
    "# The yield keyword is what makes a function a generator function.\n",
    "\n",
    "# # The “yield” keyword in Python is primarily used to create generator functions.\n",
    "# Generator functions are a special type of function that can be paused and resumed during execution,\n",
    "# allowing them to generate values on-the-fly without storing them in memory.\n",
    "\n",
    "# When you use “yield” inside a function, it transforms that function into a generator.2\n",
    "# The “yield” statement is used to produce a value from the generator, and it temporarily suspends the function’s state until the next\n",
    "# value is requested.\n",
    "\n",
    "\n",
    "def number_generator():\n",
    "    for num in range(1, 6):\n",
    "        yield num\n",
    "\n",
    "# Create a generator object\n",
    "gen = number_generator()\n",
    "\n",
    "# Iterate and print the values generated\n",
    "for value in gen:\n",
    "    print(value)\n",
    "\n",
    "\n"
   ]
  },
  {
   "cell_type": "code",
   "execution_count": null,
   "id": "170f9d90-de8b-4ea3-ac96-fca5ac96d8b9",
   "metadata": {},
   "outputs": [],
   "source": [
    " # Q5. Create a generator function for prime numbers less than 1000. Use the next() method to print the first 20 prime numbers."
   ]
  },
  {
   "cell_type": "code",
   "execution_count": null,
   "id": "b4a9c943-93b5-46eb-986b-9960d09ce7c4",
   "metadata": {},
   "outputs": [],
   "source": [
    "def is_prime(number):\n",
    "    if number <= 1:\n",
    "        return False\n",
    "    if number <= 3:\n",
    "        return True\n",
    "    if number % 2 == 0 or number % 3 == 0:\n",
    "        return False\n",
    "    i = 5\n",
    "    while i * i <= number:\n",
    "        if number % i == 0 or number % (i + 2) == 0:\n",
    "            return False\n",
    "        i += 6\n",
    "    return True\n",
    "\n",
    "def prime_generator():\n",
    "    number = 2\n",
    "    while True:\n",
    "        if is_prime(number):\n",
    "            yield number\n",
    "        number += 1\n",
    "\n",
    "# Create a generator object\n",
    "prime_gen = prime_generator()\n",
    "\n",
    "# Print the first 20 prime numbers\n",
    "for _ in range(20):\n",
    "    prime = next(prime_gen)\n",
    "    print(prime)\n"
   ]
  },
  {
   "cell_type": "code",
   "execution_count": 31,
   "id": "5413ba56-bac8-42d8-9f64-5f86115bf5f1",
   "metadata": {},
   "outputs": [],
   "source": [
    "# Q6. Write a python program to print the first 10 Fibonacci numbers using a while loop.\n",
    "def fibonacci(n):\n",
    "    \n",
    "    a,b = 0,1\n",
    "    counter  = 0\n",
    "\n",
    "while counter< number:\n",
    "    print (a)\n",
    "    c=a+b\n",
    "    a=b\n",
    "    b=c\n",
    "    counter = counter+1\n",
    "    \n",
    "fibonacci(10)    "
   ]
  },
  {
   "cell_type": "code",
   "execution_count": 32,
   "id": "35293183-3a39-4b5c-9672-f247ae1971fd",
   "metadata": {},
   "outputs": [],
   "source": []
  },
  {
   "cell_type": "code",
   "execution_count": null,
   "id": "1bbc8ef7-76a9-48d6-858d-fb4440da06eb",
   "metadata": {},
   "outputs": [],
   "source": []
  },
  {
   "cell_type": "code",
   "execution_count": 33,
   "id": "ed1af5bd-5af3-46d6-9279-995def58116e",
   "metadata": {},
   "outputs": [
    {
     "name": "stdout",
     "output_type": "stream",
     "text": [
      "['p', 'w', 's', 'k', 'i', 'l', 'l', 's']\n"
     ]
    }
   ],
   "source": [
    "# Q7. Write a List Comprehension to iterate through the given string: ‘pwskills’.\n",
    "\n",
    "Expected output: ['p', 'w', 's', 'k', 'i', 'l', 'l', 's']\n",
    "List = [character for character in 'pwskills']\n",
    " \n",
    "# Displaying list\n",
    "print(List)"
   ]
  },
  {
   "cell_type": "code",
   "execution_count": null,
   "id": "aa6d03fe-9957-4b6c-ab96-b21d3511d1af",
   "metadata": {},
   "outputs": [],
   "source": []
  },
  {
   "cell_type": "code",
   "execution_count": 1,
   "id": "703b5223-f14a-427e-9e79-ae6a0a8719e6",
   "metadata": {},
   "outputs": [
    {
     "name": "stdout",
     "output_type": "stream",
     "text": [
      "Not Palindrome\n"
     ]
    }
   ],
   "source": [
    "# Q8. Write a python program to check whether a given number is Palindrome or not using a while loop.\n",
    "\n",
    "num = 1234\n",
    "reverse = int(str(num)[::-1])\n",
    "\n",
    "if num == reverse:\n",
    "    \n",
    "    print('Palindrome')\n",
    "else:\n",
    "    print(\"Not Palindrome\")"
   ]
  },
  {
   "cell_type": "code",
   "execution_count": null,
   "id": "b29c96f7-2073-499d-83c2-6e975c2edd5d",
   "metadata": {},
   "outputs": [],
   "source": []
  },
  {
   "cell_type": "code",
   "execution_count": 4,
   "id": "bf82aa74-6c55-4bf6-a74a-aab60fc74da5",
   "metadata": {},
   "outputs": [
    {
     "ename": "IndentationError",
     "evalue": "unexpected indent (1395253145.py, line 2)",
     "output_type": "error",
     "traceback": [
      "\u001b[0;36m  Cell \u001b[0;32mIn[4], line 2\u001b[0;36m\u001b[0m\n\u001b[0;31m    [odd for odd in range(1,100) if odd%2!=0]\u001b[0m\n\u001b[0m    ^\u001b[0m\n\u001b[0;31mIndentationError\u001b[0m\u001b[0;31m:\u001b[0m unexpected indent\n"
     ]
    }
   ],
   "source": [
    " # Q9. Write a code to print odd numbers from 1 to 100 using list comprehension.\n",
    "      [odd for odd in range(1,100) if odd%2!=0]"
   ]
  },
  {
   "cell_type": "code",
   "execution_count": null,
   "id": "b9cc67df-fe92-47e7-af5e-b0f25609cf32",
   "metadata": {},
   "outputs": [],
   "source": []
  },
  {
   "cell_type": "code",
   "execution_count": null,
   "id": "234d837f-07e3-4c7f-a2ae-4c80b9102246",
   "metadata": {},
   "outputs": [],
   "source": []
  },
  {
   "cell_type": "code",
   "execution_count": null,
   "id": "5af7da3d-2cb0-43e9-8f5b-b2371a7ceabe",
   "metadata": {},
   "outputs": [],
   "source": []
  },
  {
   "cell_type": "code",
   "execution_count": null,
   "id": "e6a700a2-1c03-4f44-80ba-f10038fadbd6",
   "metadata": {},
   "outputs": [],
   "source": []
  },
  {
   "cell_type": "code",
   "execution_count": null,
   "id": "c30c7da4-f8ae-4f94-8bec-f42b4a7b9947",
   "metadata": {},
   "outputs": [],
   "source": []
  }
 ],
 "metadata": {
  "kernelspec": {
   "display_name": "Python 3 (ipykernel)",
   "language": "python",
   "name": "python3"
  },
  "language_info": {
   "codemirror_mode": {
    "name": "ipython",
    "version": 3
   },
   "file_extension": ".py",
   "mimetype": "text/x-python",
   "name": "python",
   "nbconvert_exporter": "python",
   "pygments_lexer": "ipython3",
   "version": "3.10.8"
  }
 },
 "nbformat": 4,
 "nbformat_minor": 5
}
